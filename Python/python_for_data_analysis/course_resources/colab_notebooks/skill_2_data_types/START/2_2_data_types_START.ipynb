{
 "cells": [
  {
   "cell_type": "markdown",
   "metadata": {
    "id": "yy1clB71pBl4"
   },
   "source": [
    "## Variables\n",
    "Variables are names, or placeholders, that contain values. You will learn more about variables later in the course. For now, just know that they are placeholders for values. For example, `x = 1` shows the variable name `x`, which is assigned a value using the `=` equal sign with a value of `1`. A common tool used with variables is the `print()` function which returns the value of a variable. In this case `print(x)` will return `1`."
   ]
  },
  {
   "cell_type": "code",
   "execution_count": 1,
   "metadata": {
    "id": "Ek6Fz0rlqYNs"
   },
   "outputs": [
    {
     "name": "stdout",
     "output_type": "stream",
     "text": [
      "1\n"
     ]
    }
   ],
   "source": [
    "x = 1\n",
    "print(x)"
   ]
  },
  {
   "cell_type": "markdown",
   "metadata": {
    "id": "RXj8h-9AK6eG"
   },
   "source": [
    "## Numbers & Bools"
   ]
  },
  {
   "cell_type": "code",
   "execution_count": null,
   "metadata": {
    "id": "DwU8UxS7JUTd"
   },
   "outputs": [],
   "source": [
    "# Numbers and Bools\n",
    "# Integer\n",
    "# Float\n",
    "# Bool\n",
    "# Bool\n",
    "# Bool same as True\n",
    "# Bool same as False"
   ]
  },
  {
   "cell_type": "markdown",
   "metadata": {
    "id": "oyGmFrbAK-w2"
   },
   "source": [
    "## Strings"
   ]
  },
  {
   "cell_type": "code",
   "execution_count": null,
   "metadata": {
    "id": "pDBU1G7qJ7m2"
   },
   "outputs": [],
   "source": [
    "# Strings (single or double quotes)\n"
   ]
  },
  {
   "cell_type": "markdown",
   "metadata": {
    "id": "76B_ZopNLBOA"
   },
   "source": [
    "## Collections"
   ]
  },
  {
   "cell_type": "code",
   "execution_count": null,
   "metadata": {
    "id": "_6xWe3rvKZto"
   },
   "outputs": [],
   "source": [
    "# Collections\n",
    "# List\n",
    "# Set\n",
    "# Dictionary\n",
    "# Tuple"
   ]
  },
  {
   "cell_type": "markdown",
   "metadata": {
    "id": "6RvH7VFwNk0g"
   },
   "source": [
    "## The `type()` Function\n",
    "\n",
    "The `type()` function returns the data type of a particular Python object."
   ]
  },
  {
   "cell_type": "code",
   "execution_count": null,
   "metadata": {
    "id": "0wr-XRGYNqH7"
   },
   "outputs": [],
   "source": [
    "# the type() function"
   ]
  }
 ],
 "metadata": {
  "colab": {
   "authorship_tag": "ABX9TyMUmSjbk1NW7S5RqRPHAeqn",
   "collapsed_sections": [],
   "name": "2_2_data_types_START.ipynb",
   "provenance": []
  },
  "kernelspec": {
   "display_name": "Python 3 (ipykernel)",
   "language": "python",
   "name": "python3"
  },
  "language_info": {
   "codemirror_mode": {
    "name": "ipython",
    "version": 3
   },
   "file_extension": ".py",
   "mimetype": "text/x-python",
   "name": "python",
   "nbconvert_exporter": "python",
   "pygments_lexer": "ipython3",
   "version": "3.11.5"
  }
 },
 "nbformat": 4,
 "nbformat_minor": 1
}
