{
 "cells": [
  {
   "cell_type": "markdown",
   "metadata": {
    "id": "wB3QIwsNL_RD"
   },
   "source": [
    "# Strings\n",
    "Much like integers and floats, which contain number data, strings contain text data. Strings are ASCII characters—or plain old text. \n",
    "\n",
    "To create a string, just type some characters and wrap them inside single or double-quotes. For example, `\"Python\"` or `'#Pandas3000'`. Both numbers and symbols are characters that become strings once wrapped inside of single or double-quotes."
   ]
  },
  {
   "cell_type": "code",
   "execution_count": 2,
   "metadata": {
    "id": "ENg9pD7pblqA"
   },
   "outputs": [
    {
     "name": "stdout",
     "output_type": "stream",
     "text": [
      "Hi Mom!\n"
     ]
    }
   ],
   "source": [
    "# this is a string\n",
    "\"Hi Mom!\"\n",
    "print(\"Hi Mom!\")"
   ]
  },
  {
   "cell_type": "code",
   "execution_count": 3,
   "metadata": {
    "id": "pT1Jk1QAblqA"
   },
   "outputs": [
    {
     "data": {
      "text/plain": [
       "str"
      ]
     },
     "execution_count": 3,
     "metadata": {},
     "output_type": "execute_result"
    }
   ],
   "source": [
    "# this is also a string\n",
    "my_string = \"9.99\"\n",
    "type(my_string)"
   ]
  },
  {
   "cell_type": "markdown",
   "metadata": {
    "id": "8z9TsTXVdAVR"
   },
   "source": [
    "## Comments\n",
    "\n",
    "Writing comments is crucial to ensure that your code is readable and easy to understand. \n",
    "\n",
    "Here's why.\n",
    "\n",
    "In six months, the chances are that you won't remember the logic of the code you write today. Furthermore, you want to use comments, so anyone who reads your code can understand what is happening."
   ]
  },
  {
   "cell_type": "code",
   "execution_count": null,
   "metadata": {
    "id": "hmLj5GWDqyNZ"
   },
   "outputs": [],
   "source": [
    "# this is a comment"
   ]
  },
  {
   "cell_type": "code",
   "execution_count": null,
   "metadata": {
    "id": "KWisSbc_cs7C"
   },
   "outputs": [],
   "source": [
    "\"\"\"\n",
    "This\n",
    "is\n",
    "a multi-line\n",
    "comment\n",
    "\"\"\""
   ]
  },
  {
   "cell_type": "code",
   "execution_count": null,
   "metadata": {
    "id": "F6Tvi-Kncy-n"
   },
   "outputs": [],
   "source": [
    "# This\n",
    "# is also\n",
    "# a multi-line\n",
    "# comment"
   ]
  },
  {
   "cell_type": "markdown",
   "metadata": {
    "id": "oXbiv3TFblqA"
   },
   "source": [
    "# Keywords\n",
    "Python has a set of reserved keywords that are forbidden to use as variable names, function names, or any other identifiers. Here is the list for your reference.\n",
    "\n"
   ]
  },
  {
   "cell_type": "code",
   "execution_count": 4,
   "metadata": {
    "id": "UN0BQhIXblqB"
   },
   "outputs": [
    {
     "data": {
      "text/plain": [
       "NoneType"
      ]
     },
     "execution_count": 4,
     "metadata": {},
     "output_type": "execute_result"
    }
   ],
   "source": [
    "x = None\n",
    "type(x)"
   ]
  },
  {
   "cell_type": "markdown",
   "metadata": {
    "id": "0I_QMqUAblqB"
   },
   "source": [
    "There are many other keywords; here are some more. You might recognize a few:\n",
    "\n",
    "- `and` logical operator\n",
    "- `as` create an alias\n",
    "- `assert` debugging\n",
    "- `break` break out of a loop\n",
    "- `class` define a class\n",
    "- `continue` continue to the next iteration of a loop\n",
    "- `def` define a function\n",
    "- `del` delete an object\n",
    "- `elif` conditional statements, same as else if\n",
    "- `else` conditional statements\n",
    "- `except` exceptions, what to do when an exception occurs\n",
    "- `False` Boolean value, the result of comparison operations\n",
    "- `finally` exceptions, a block of code that will be executed regardless of an exception\n",
    "- `for` create a for loop\n",
    "- `from` import specific parts of a module\n",
    "- `global` declare a global variable\n",
    "- `if` make a conditional statement\n",
    "- `import` import a module\n",
    "- `in` check if a value is present in a list, tuple, etc.\n",
    "- `is` test if two variables are equal\n",
    "- `lambda` create an anonymous function\n",
    "- `None` represents a null value\n",
    "- `nonlocal` declare a non-local variable\n",
    "- `not` logical operator\n",
    "- `or` logical operator\n",
    "- `pass` null statement, a statement that will do nothing\n",
    "- `raise` raise an exception\n",
    "- `return` exit a function and return a value\n",
    "- `True` Boolean value, the result of comparison operations\n",
    "- `try` make a try...except statement\n",
    "- `while` create a while loop\n",
    "- `with` simplify exception handling\n",
    "- `yield` end a function, returns a generator"
   ]
  },
  {
   "cell_type": "markdown",
   "metadata": {
    "id": "XU-h3VfWrnFi"
   },
   "source": [
    "## Single or Double Quotes?\n",
    "You can use single or double quotes when working with Python, but there are some behaviors you want to keep in mind. For example, when dealing with apostrophes."
   ]
  },
  {
   "cell_type": "code",
   "execution_count": 5,
   "metadata": {
    "id": "xMbyBIWEr3oP"
   },
   "outputs": [
    {
     "ename": "SyntaxError",
     "evalue": "unterminated string literal (detected at line 2) (3572848649.py, line 2)",
     "output_type": "error",
     "traceback": [
      "\u001b[1;36m  Cell \u001b[1;32mIn[5], line 2\u001b[1;36m\u001b[0m\n\u001b[1;33m    store = 'Jim Jam's Burger Shack'\u001b[0m\n\u001b[1;37m                                   ^\u001b[0m\n\u001b[1;31mSyntaxError\u001b[0m\u001b[1;31m:\u001b[0m unterminated string literal (detected at line 2)\n"
     ]
    }
   ],
   "source": [
    "# can you identify the problem here?\n",
    "store = 'Jim Jam's Burger Shack'\n",
    "print(store)"
   ]
  },
  {
   "cell_type": "code",
   "execution_count": 6,
   "metadata": {
    "id": "s5Oa7YfyurDW"
   },
   "outputs": [
    {
     "name": "stdout",
     "output_type": "stream",
     "text": [
      "Jim Jam's Burger Shack\n"
     ]
    }
   ],
   "source": [
    "# how can you fix the above?\n",
    "store = \"Jim Jam's Burger Shack\"\n",
    "print(store)"
   ]
  },
  {
   "cell_type": "code",
   "execution_count": null,
   "metadata": {},
   "outputs": [],
   "source": []
  }
 ],
 "metadata": {
  "colab": {
   "authorship_tag": "ABX9TyNHu/n5K0CVWIsl5Wn8BSPG",
   "collapsed_sections": [],
   "name": "2_4_strings_and_keywords_START.ipynb",
   "provenance": []
  },
  "kernelspec": {
   "display_name": "Python 3 (ipykernel)",
   "language": "python",
   "name": "python3"
  },
  "language_info": {
   "codemirror_mode": {
    "name": "ipython",
    "version": 3
   },
   "file_extension": ".py",
   "mimetype": "text/x-python",
   "name": "python",
   "nbconvert_exporter": "python",
   "pygments_lexer": "ipython3",
   "version": "3.11.5"
  }
 },
 "nbformat": 4,
 "nbformat_minor": 1
}
