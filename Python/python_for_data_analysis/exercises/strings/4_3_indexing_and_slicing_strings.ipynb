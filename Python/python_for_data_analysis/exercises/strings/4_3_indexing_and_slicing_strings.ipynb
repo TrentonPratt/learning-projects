{
 "cells": [
  {
   "cell_type": "markdown",
   "metadata": {
    "id": "eb_4FfFuwwJY"
   },
   "source": [
    "# Indexing strings\n",
    "\n",
    "You can index strings to grab one character from a string of characters. To do this, we will need to use something called a 0 based-index; meaning, we start counting from 0. For example, the first character of the string sequence, `\"Jonathan\"`, is `J`, and its index is 0. The second letter of the string sequence, `\"Jonathan\"`, is `o`, its index is 1, and so on.\n",
    "\n",
    "\n",
    "## Index visualization:\n",
    "J | O | N | A | T | H | A | N \n",
    "--- | --- | --- | --- | --- | --- | --- | --- \n",
    "0 | 1 | 2 | 3 | 4 | 5 | 6 | 7 \n",
    "\n"
   ]
  },
  {
   "cell_type": "code",
   "execution_count": 1,
   "metadata": {
    "id": "1Cm1_hdtwskU"
   },
   "outputs": [
    {
     "data": {
      "text/plain": [
       "'T'"
      ]
     },
     "execution_count": 1,
     "metadata": {},
     "output_type": "execute_result"
    }
   ],
   "source": [
    "# indexing a string's first element\n",
    "\"Trenton\"[0]"
   ]
  },
  {
   "cell_type": "code",
   "execution_count": 2,
   "metadata": {
    "id": "GiNZRkAP2qmR"
   },
   "outputs": [
    {
     "data": {
      "text/plain": [
       "'r'"
      ]
     },
     "execution_count": 2,
     "metadata": {},
     "output_type": "execute_result"
    }
   ],
   "source": [
    "# indexing a string's second element\n",
    "\"Trenton\"[1]"
   ]
  },
  {
   "cell_type": "code",
   "execution_count": 3,
   "metadata": {
    "id": "ai0BAU2Y2sW0"
   },
   "outputs": [
    {
     "data": {
      "text/plain": [
       "'e'"
      ]
     },
     "execution_count": 3,
     "metadata": {},
     "output_type": "execute_result"
    }
   ],
   "source": [
    "# indexing a string's last element\n",
    "\"Trenton\"[2]"
   ]
  },
  {
   "cell_type": "markdown",
   "metadata": {
    "id": "09r5plws2THb"
   },
   "source": [
    "# Indexing variables\n",
    "You can also index varibles if they are assigned to strings. There is no difference."
   ]
  },
  {
   "cell_type": "code",
   "execution_count": 5,
   "metadata": {
    "id": "Lrnt9aqY2TYr"
   },
   "outputs": [
    {
     "data": {
      "text/plain": [
       "'n'"
      ]
     },
     "execution_count": 5,
     "metadata": {},
     "output_type": "execute_result"
    }
   ],
   "source": [
    "# store \"Trenton\" inside variable: name\n",
    "name = \"Trenton\"\n",
    "\n",
    "# access the last element of: name\n",
    "name[-1]"
   ]
  },
  {
   "cell_type": "markdown",
   "metadata": {
    "id": "IHcH2dbPiw7I"
   },
   "source": [
    "## Negative index visualization:\n",
    "J | O | N | A | T | H | A | N \n",
    "--- | --- | --- | --- | --- | --- | --- | --- \n",
    "-8 | -7 | -6 | -5 | -4 | -3 | -2 | -1 "
   ]
  },
  {
   "cell_type": "code",
   "execution_count": 6,
   "metadata": {
    "id": "9OHKCn03hOzd"
   },
   "outputs": [
    {
     "data": {
      "text/plain": [
       "'n'"
      ]
     },
     "execution_count": 6,
     "metadata": {},
     "output_type": "execute_result"
    }
   ],
   "source": [
    "# access the last element of: name\n",
    "name[-1]"
   ]
  },
  {
   "cell_type": "code",
   "execution_count": 7,
   "metadata": {
    "id": "Zm2Psg3Jiomg"
   },
   "outputs": [
    {
     "data": {
      "text/plain": [
       "'o'"
      ]
     },
     "execution_count": 7,
     "metadata": {},
     "output_type": "execute_result"
    }
   ],
   "source": [
    "# access the penultimate element of: name\n",
    "name[-2]"
   ]
  },
  {
   "cell_type": "markdown",
   "metadata": {
    "id": "R-w7EUo7w6ZG"
   },
   "source": [
    "## Slicing strings\n",
    "\n",
    "In addition to indexing, you can specify a start, stop and step parameter:\n",
    "\n",
    "\n",
    "The third parameter is optional, for setting a step:\n",
    "\n"
   ]
  },
  {
   "cell_type": "code",
   "execution_count": 9,
   "metadata": {
    "id": "I4Q0DED3xB4E"
   },
   "outputs": [
    {
     "ename": "SyntaxError",
     "evalue": "invalid syntax (1201800923.py, line 2)",
     "output_type": "error",
     "traceback": [
      "\u001b[1;36m  Cell \u001b[1;32mIn[9], line 2\u001b[1;36m\u001b[0m\n\u001b[1;33m    name =\u001b[0m\n\u001b[1;37m           ^\u001b[0m\n\u001b[1;31mSyntaxError\u001b[0m\u001b[1;31m:\u001b[0m invalid syntax\n"
     ]
    }
   ],
   "source": [
    "# slicing using a variable: name = \"Trenton\"\n",
    "name = \"Trenton\"\n",
    "\n",
    "# slice 0-3, not including 3\n",
    "name[0:3]"
   ]
  },
  {
   "cell_type": "raw",
   "metadata": {
    "id": "Q8HuLi5cxOj6"
   },
   "source": [
    "The third parameter specifies the step, which is optional:"
   ]
  },
  {
   "cell_type": "code",
   "execution_count": 10,
   "metadata": {
    "id": "HxTALIdqw9di"
   },
   "outputs": [
    {
     "data": {
      "text/plain": [
       "'Tet'"
      ]
     },
     "execution_count": 10,
     "metadata": {},
     "output_type": "execute_result"
    }
   ],
   "source": [
    "# slicing using a variable: name = \"Trenton\"\n",
    "name = \"Trenton\"\n",
    "\n",
    "# slice 0-6, not including 6, in steps of 2 (every other element)\n",
    "name[0:6:2]"
   ]
  },
  {
   "cell_type": "markdown",
   "metadata": {
    "id": "jje7oqE2xRzo"
   },
   "source": [
    "To reverse a string, don't specify the start and stop parameters, and enter `-1` to start at the end and stop at the beginning:"
   ]
  },
  {
   "cell_type": "code",
   "execution_count": 11,
   "metadata": {
    "id": "sC-FG_pTxSKz"
   },
   "outputs": [
    {
     "data": {
      "text/plain": [
       "'notnerT'"
      ]
     },
     "execution_count": 11,
     "metadata": {},
     "output_type": "execute_result"
    }
   ],
   "source": [
    "# slicing using a variable: name = \"Jonathan\"\n",
    "name = \"Trenton\"\n",
    "\n",
    "# this is one way\n",
    "name[::-1]"
   ]
  },
  {
   "cell_type": "code",
   "execution_count": null,
   "metadata": {},
   "outputs": [],
   "source": []
  }
 ],
 "metadata": {
  "colab": {
   "collapsed_sections": [],
   "name": "4_3_indexing_and_slicing_strings_START.ipynb",
   "provenance": []
  },
  "kernelspec": {
   "display_name": "Python 3 (ipykernel)",
   "language": "python",
   "name": "python3"
  },
  "language_info": {
   "codemirror_mode": {
    "name": "ipython",
    "version": 3
   },
   "file_extension": ".py",
   "mimetype": "text/x-python",
   "name": "python",
   "nbconvert_exporter": "python",
   "pygments_lexer": "ipython3",
   "version": "3.11.5"
  }
 },
 "nbformat": 4,
 "nbformat_minor": 1
}
