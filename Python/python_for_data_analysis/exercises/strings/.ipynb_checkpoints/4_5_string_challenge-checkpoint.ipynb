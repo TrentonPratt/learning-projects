{
 "cells": [
  {
   "cell_type": "code",
   "execution_count": 18,
   "metadata": {
    "id": "2TOklXaYPT02"
   },
   "outputs": [],
   "source": [
    "# create a variable named song and assign the following string: Billie's Bounce\n",
    "song = \"Billie's Bounce\""
   ]
  },
  {
   "cell_type": "code",
   "execution_count": 19,
   "metadata": {
    "id": "94cgfLz4Sgdi"
   },
   "outputs": [
    {
     "name": "stdout",
     "output_type": "stream",
     "text": [
      "Billie's Bounce\n"
     ]
    }
   ],
   "source": [
    "# print song\n",
    "print(song)"
   ]
  },
  {
   "cell_type": "code",
   "execution_count": 20,
   "metadata": {
    "id": "4bXpr_CQSjKX"
   },
   "outputs": [],
   "source": [
    "# create another variable named composer and assign the following string: charlie parker\n",
    "composer = \"charlie parker\""
   ]
  },
  {
   "cell_type": "code",
   "execution_count": 21,
   "metadata": {
    "id": "FMDY2AirS6_v"
   },
   "outputs": [],
   "source": [
    "# use a string method to capitalize the composer's name to: Charlie Parker\n",
    "composer = composer.title()"
   ]
  },
  {
   "cell_type": "code",
   "execution_count": 22,
   "metadata": {
    "id": "GOuYeDt-TLpp"
   },
   "outputs": [
    {
     "name": "stdout",
     "output_type": "stream",
     "text": [
      "Charlie Parker\n"
     ]
    }
   ],
   "source": [
    "# print composer and note how it is all lowercase!\n",
    "print(composer)"
   ]
  },
  {
   "cell_type": "code",
   "execution_count": 23,
   "metadata": {
    "id": "g1GSTB5HTZ4m"
   },
   "outputs": [],
   "source": [
    "# reassign composer to uppercase so composer prints: Charlie Parker\n"
   ]
  },
  {
   "cell_type": "code",
   "execution_count": 24,
   "metadata": {
    "id": "2zn4KmVbT2_0"
   },
   "outputs": [],
   "source": [
    "# print composer\n"
   ]
  },
  {
   "cell_type": "code",
   "execution_count": 25,
   "metadata": {
    "id": "sVpbpHGUUJ8-"
   },
   "outputs": [],
   "source": [
    "# create a new variable named year with a value of 1945\n",
    "year = 1945"
   ]
  },
  {
   "cell_type": "code",
   "execution_count": 28,
   "metadata": {
    "id": "qZ_0nOOWUSSV"
   },
   "outputs": [
    {
     "name": "stdout",
     "output_type": "stream",
     "text": [
      "Billie's Bounce was composed by Charlie Parker in 1945.\n"
     ]
    }
   ],
   "source": [
    "# use string formatting and the above variables \n",
    "# to print the following string: \n",
    "# Billie's Bounce was composed by Charlie Parker in 1945.\n",
    "print(\"{} was composed by {} in {}.\".format(song, composer, year))"
   ]
  },
  {
   "cell_type": "code",
   "execution_count": null,
   "metadata": {},
   "outputs": [],
   "source": []
  }
 ],
 "metadata": {
  "colab": {
   "authorship_tag": "ABX9TyMK1fZYwRPwBvj5B4gb2BYC",
   "collapsed_sections": [],
   "name": "4_5_string_challenge_START",
   "provenance": []
  },
  "kernelspec": {
   "display_name": "Python 3 (ipykernel)",
   "language": "python",
   "name": "python3"
  },
  "language_info": {
   "codemirror_mode": {
    "name": "ipython",
    "version": 3
   },
   "file_extension": ".py",
   "mimetype": "text/x-python",
   "name": "python",
   "nbconvert_exporter": "python",
   "pygments_lexer": "ipython3",
   "version": "3.11.5"
  }
 },
 "nbformat": 4,
 "nbformat_minor": 1
}
