{
 "cells": [
  {
   "cell_type": "markdown",
   "metadata": {
    "id": "YWF5yOtMgmxf"
   },
   "source": [
    "## For loops\n",
    "\n",
    "`For` loops iterate over a given sequence, for example:\n"
   ]
  },
  {
   "cell_type": "code",
   "execution_count": 6,
   "metadata": {
    "id": "tzYecN_EShX9"
   },
   "outputs": [
    {
     "name": "stdout",
     "output_type": "stream",
     "text": [
      "3\n",
      "5\n",
      "7\n"
     ]
    }
   ],
   "source": [
    "# write a for loop that prints out the numbers 0 to n\n",
    "for n in range(5):\n",
    "    print(n)\n",
    "\n",
    "# write a for loop that out 3,4,5 (3 to 6, not including 6)\n",
    "for n in range(3,6):\n",
    "    print(n)\n",
    "\n",
    "# write a for loop that out 3,5,7 (from 3 to 8, not including 8, in steps of 2)\n",
    "for n in range(3, 8, 2):\n",
    "    print(n)"
   ]
  },
  {
   "cell_type": "markdown",
   "metadata": {
    "id": "fUEn8otpSl3S"
   },
   "source": [
    "The last range function accepted three arguments, so we can move in steps. `From 3 to 8, not including 8 in steps of 2`.\n",
    "\n",
    "> Note: that the range function is zero-based.\n",
    "\n",
    "You can also iterate through a list of names. For example:"
   ]
  },
  {
   "cell_type": "code",
   "execution_count": 11,
   "metadata": {
    "id": "BNc8ONGnShwX"
   },
   "outputs": [
    {
     "name": "stdout",
     "output_type": "stream",
     "text": [
      "Constance\n",
      "Octavia\n",
      "Hannah\n"
     ]
    }
   ],
   "source": [
    "# assign a list with \"Constance\", \"Octavia\", \"Hannah\" to a variable named: list_name\n",
    "list_name = [\"Constance\", \"Octavia\", \"Hannah\"]\n",
    "\n",
    "# for every name in list_name, print name\n",
    "for x in list_name:\n",
    "    print(x)"
   ]
  },
  {
   "cell_type": "code",
   "execution_count": 16,
   "metadata": {
    "id": "XqpW_O4n0FDi"
   },
   "outputs": [
    {
     "name": "stdout",
     "output_type": "stream",
     "text": [
      "Constance\n"
     ]
    }
   ],
   "source": [
    "# assign a list with \"Constance\", \"Octavia\", \"Hannah\" to a variable named: list_name\n",
    "list_name = [\"Constance\", \"Octavia\", \"Hannah\"]\n",
    "\n",
    "# for every name in list_name\n",
    "for name in list_name:\n",
    "  # check if name equals \"Hannah\"\n",
    "    if name == \"Octavia\":\n",
    "    # if so, break the loop\n",
    "        break\n",
    "  # print name (outside of the if statement scope) \n",
    "    print(name)"
   ]
  },
  {
   "cell_type": "code",
   "execution_count": 17,
   "metadata": {
    "id": "XXht-Vqw0nln"
   },
   "outputs": [
    {
     "name": "stdout",
     "output_type": "stream",
     "text": [
      "Constance\n",
      "Hannah\n"
     ]
    }
   ],
   "source": [
    "# assign a list with \"Constance\", \"Octavia\", \"Hannah\" to a variable named: list_name\n",
    "list_name = [\"Constance\", \"Octavia\", \"Hannah\"]\n",
    "# for every name in list_name\n",
    "for name in list_name:\n",
    "  # check if name equals \"Hannah\"\n",
    "    if name == \"Octavia\":\n",
    "    # if so, continue the loop (skips Hannah)\n",
    "        continue\n",
    "  # print name (outside of the if statement scope) \n",
    "    print(name)"
   ]
  },
  {
   "cell_type": "code",
   "execution_count": null,
   "metadata": {},
   "outputs": [],
   "source": []
  }
 ],
 "metadata": {
  "colab": {
   "collapsed_sections": [],
   "name": "6_3_for_loops_START.ipynb",
   "provenance": []
  },
  "kernelspec": {
   "display_name": "Python 3 (ipykernel)",
   "language": "python",
   "name": "python3"
  },
  "language_info": {
   "codemirror_mode": {
    "name": "ipython",
    "version": 3
   },
   "file_extension": ".py",
   "mimetype": "text/x-python",
   "name": "python",
   "nbconvert_exporter": "python",
   "pygments_lexer": "ipython3",
   "version": "3.11.5"
  }
 },
 "nbformat": 4,
 "nbformat_minor": 1
}
