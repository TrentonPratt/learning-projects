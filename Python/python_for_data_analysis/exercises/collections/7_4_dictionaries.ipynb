{
 "cells": [
  {
   "cell_type": "markdown",
   "metadata": {
    "id": "dY2Mos5NqH-l"
   },
   "source": [
    "\n",
    "## Dictionaries: ordered, mutable, and no duplicates allowed\n",
    "\n",
    "Dictionaries contain key:value pairs and can be referred to by the key name.\n"
   ]
  },
  {
   "cell_type": "code",
   "execution_count": 1,
   "metadata": {
    "id": "2vMGqpcxkmMV"
   },
   "outputs": [
    {
     "name": "stdout",
     "output_type": "stream",
     "text": [
      "[1, 2, 3, 4, 5]\n",
      "{'Jonathan': 'Trainer', 'Ben': 'Trainer'}\n"
     ]
    }
   ],
   "source": [
    "# create a list containing 1,2,3,4,5 and assign it to a variable: my_list\n",
    "my_list = [1,2,3,4,5]\n",
    "\n",
    "# print my_list\n",
    "print(my_list)\n",
    "\n",
    "# create a dictionary containing \"Jonathan\":\"Trainer\", \"Ben\":\"Trainer\" and assign it to a variable: my_dict\n",
    "my_dict = {\n",
    "    \"Jonathan\":\"Trainer\",\n",
    "    \"Ben\":\"Trainer\"\n",
    "}\n",
    "\n",
    "# print my_dict\n",
    "print(my_dict)"
   ]
  },
  {
   "cell_type": "markdown",
   "metadata": {
    "id": "tLtMOhe_qWTS"
   },
   "source": [
    "## Dictionary or list?\n",
    "* If you want indexed items, use a list. \n",
    "* If you want associations, use a dictionary. \n",
    "* Lists and dictionaries are both ordered and mutable. \n",
    "* Lists allow duplicates while dictionaries do not, except:\n",
    "  * Dictionary keys must be unique but the values can be duplicates. 🤔\n",
    "\n",
    "\n",
    "Let's create an empty dictionary:\n",
    "\n",
    "\n",
    "\n"
   ]
  },
  {
   "cell_type": "code",
   "execution_count": 2,
   "metadata": {
    "id": "fEvNff94qLvh"
   },
   "outputs": [],
   "source": [
    "# empty dictionary and assign it to empty_dict\n",
    "empty_dict = {\n",
    "    \n",
    "}"
   ]
  },
  {
   "cell_type": "markdown",
   "metadata": {
    "id": "d43QxHmbqY6C"
   },
   "source": [
    "Next, let's create a dictionary where the key is an object, and the value is the data type of that object."
   ]
  },
  {
   "cell_type": "code",
   "execution_count": 3,
   "metadata": {
    "id": "Edm_yXo0qPkP"
   },
   "outputs": [],
   "source": [
    "# create a dictionary containing 100: \"Int\", 99.99: \"Float\" and assign it to variable: data_types\n",
    "\n",
    "data_types = {\n",
    "    100:\"Int\",\n",
    "    99.99:\"Float\"\n",
    "}"
   ]
  },
  {
   "cell_type": "markdown",
   "metadata": {
    "id": "PqVuZAKs6rfM"
   },
   "source": [
    "### Extracting keys\n",
    "\n",
    "You can extract keys and their values from a dictionary, much like indexing lists, but instead of extracting values by an index number, we extract the value by key name."
   ]
  },
  {
   "cell_type": "code",
   "execution_count": 5,
   "metadata": {
    "id": "q7C8t8mH6sBy"
   },
   "outputs": [
    {
     "name": "stdout",
     "output_type": "stream",
     "text": [
      "Int\n"
     ]
    }
   ],
   "source": [
    "# create a dictionary containing 100: \"Int\", 99.99: \"Float\" and assign it to variable: data_types\n",
    "\n",
    "\n",
    "\n",
    "\n",
    "# retrieve the value from key name: 100\n",
    "print(data_types[100])\n"
   ]
  },
  {
   "cell_type": "markdown",
   "metadata": {
    "id": "M4jhr_9n65au"
   },
   "source": [
    "If you try to return a key that doesn't exist, you will get a KeyError. Note that indexing by key is case sensitive, so `\"Name\"` is not the same key as `\"name\"`.\n",
    "\n",
    "If you try to create a key without a value, you will trip another KeyError since the key doesn't exist."
   ]
  },
  {
   "cell_type": "code",
   "execution_count": 6,
   "metadata": {
    "id": "iCUx_sQu6t8I"
   },
   "outputs": [
    {
     "ename": "KeyError",
     "evalue": "200",
     "output_type": "error",
     "traceback": [
      "\u001b[1;31m---------------------------------------------------------------------------\u001b[0m",
      "\u001b[1;31mKeyError\u001b[0m                                  Traceback (most recent call last)",
      "Cell \u001b[1;32mIn[6], line 2\u001b[0m\n\u001b[0;32m      1\u001b[0m \u001b[38;5;66;03m# try data_types[200]\u001b[39;00m\n\u001b[1;32m----> 2\u001b[0m \u001b[38;5;28mprint\u001b[39m(data_types[\u001b[38;5;241m200\u001b[39m])\n",
      "\u001b[1;31mKeyError\u001b[0m: 200"
     ]
    }
   ],
   "source": [
    "# try data_types[200]\n",
    "print(data_types[200])"
   ]
  },
  {
   "cell_type": "markdown",
   "metadata": {
    "id": "NBgdDOaw7SND"
   },
   "source": [
    "Instead, you can add to a dictionary if you provide both the key and the value, like this:"
   ]
  },
  {
   "cell_type": "code",
   "execution_count": 8,
   "metadata": {
    "id": "mZAgKC8b67di"
   },
   "outputs": [
    {
     "name": "stdout",
     "output_type": "stream",
     "text": [
      "{100: 'Int', 99.99: 'Float', 200: 'Int'}\n"
     ]
    }
   ],
   "source": [
    "# append the data_types dictionary with the key 200 and a value of 'Int'\n",
    "data_types[200] = \"Int\"\n",
    "\n",
    "# return data_types\n",
    "print(data_types)"
   ]
  },
  {
   "cell_type": "code",
   "execution_count": null,
   "metadata": {},
   "outputs": [],
   "source": []
  }
 ],
 "metadata": {
  "colab": {
   "collapsed_sections": [],
   "name": "7_4_dictionaries_START.ipynb",
   "provenance": []
  },
  "kernelspec": {
   "display_name": "Python 3 (ipykernel)",
   "language": "python",
   "name": "python3"
  },
  "language_info": {
   "codemirror_mode": {
    "name": "ipython",
    "version": 3
   },
   "file_extension": ".py",
   "mimetype": "text/x-python",
   "name": "python",
   "nbconvert_exporter": "python",
   "pygments_lexer": "ipython3",
   "version": "3.11.5"
  }
 },
 "nbformat": 4,
 "nbformat_minor": 1
}
