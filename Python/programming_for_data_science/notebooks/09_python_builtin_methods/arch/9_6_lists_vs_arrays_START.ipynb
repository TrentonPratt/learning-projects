{
 "cells": [
  {
   "cell_type": "markdown",
   "metadata": {
    "id": "B0_M3xtbnC5i"
   },
   "source": [
    "# Lists and Arrays\n",
    "To better understand data science, let's explore how data is stored and manipulated. For example, a list is really a Python object and overhead compared to compiled languages like C. While the list is vey flexible. It does come at a cost. The array, on the other hand, essentially contains a single pointer to one block of data. Much more efficient and has many other advantages. "
   ]
  },
  {
   "cell_type": "markdown",
   "metadata": {
    "id": "aaQY23UEAtVn"
   },
   "source": [
    "### Creating lists"
   ]
  },
  {
   "cell_type": "code",
   "execution_count": null,
   "metadata": {
    "id": "2vMGqpcxkmMV"
   },
   "outputs": [],
   "source": [
    "# create a list containing \"Python\", 2025, True and asssign it to a variable: my_list\n",
    "my_list = [\"Python\", 2025, True]\n",
    " \n",
    "# print my_list\n",
    "print(my_list)"
   ]
  },
  {
   "cell_type": "markdown",
   "metadata": {
    "id": "MuWlhVweAxSW"
   },
   "source": [
    "NumPy arrays are a more resource-efficient alternative to lists that also come equipped with tools for data science. Both lists and Numpy arrays can be used to construct more complex data structures such as dictionaries and data frames. "
   ]
  },
  {
   "cell_type": "markdown",
   "metadata": {
    "id": "Z4ePVZ5pnbU1"
   },
   "source": [
    "### Beyond Sublists with Numpy and `ndarray`\n",
    "NumPy is a Python library for working with arrays. NumPy is short for \"Numerical Python\"."
   ]
  },
  {
   "cell_type": "code",
   "execution_count": null,
   "metadata": {
    "id": "fyH3aK6cm3tm"
   },
   "outputs": [],
   "source": [
    "#!conda install numpy\n",
    "import numpy as np\n",
    "\n",
    "# integer array:\n",
    "np.array([1, 4, 2, 5, 3])"
   ]
  },
  {
   "cell_type": "code",
   "execution_count": null,
   "metadata": {},
   "outputs": [],
   "source": [
    "## what shape is your array?\n",
    "a = np.array([[1,2,3],[4,5,6]])\n",
    "print('Array :','\\n',a)\n",
    "print('Shape :','\\n',a.shape)\n",
    "print('Rows = ',a.shape[0])\n",
    "print('Columns = ',a.shape[1])\n",
    "\n",
    "# you can reshape your arrays, no problem\n",
    "a = np.array([3,6,9,12])\n",
    "np.reshape(a,(2,2))"
   ]
  },
  {
   "cell_type": "code",
   "execution_count": null,
   "metadata": {},
   "outputs": [],
   "source": [
    "np.zeros(5)"
   ]
  },
  {
   "cell_type": "code",
   "execution_count": null,
   "metadata": {},
   "outputs": [],
   "source": [
    "np.ones(5,dtype=np.int32)"
   ]
  },
  {
   "cell_type": "markdown",
   "metadata": {},
   "source": [
    "\n",
    "## Most Importantly, the Pandas DataFrame"
   ]
  },
  {
   "cell_type": "code",
   "execution_count": null,
   "metadata": {},
   "outputs": [],
   "source": [
    "import pandas as pd \n",
    "\n",
    "mls_df = pd.read_csv('https://raw.githubusercontent.com/cbtn-data-science-ml/python-for-data-analysis/main/datasets/mls_salaries.csv')\n",
    "mls_df"
   ]
  }
 ],
 "metadata": {
  "colab": {
   "collapsed_sections": [],
   "name": "7_2_lists_FINISH.ipynb",
   "provenance": []
  },
  "kernelspec": {
   "display_name": "Python 3 (ipykernel)",
   "language": "python",
   "name": "python3"
  },
  "language_info": {
   "codemirror_mode": {
    "name": "ipython",
    "version": 3
   },
   "file_extension": ".py",
   "mimetype": "text/x-python",
   "name": "python",
   "nbconvert_exporter": "python",
   "pygments_lexer": "ipython3",
   "version": "3.10.8"
  }
 },
 "nbformat": 4,
 "nbformat_minor": 1
}
