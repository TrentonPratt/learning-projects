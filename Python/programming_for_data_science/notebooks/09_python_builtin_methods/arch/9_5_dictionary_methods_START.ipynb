{
 "cells": [
  {
   "cell_type": "markdown",
   "metadata": {
    "id": "2nqypeDH9WjX"
   },
   "source": [
    "## Dictionary methods\n",
    "\n",
    "Dictionary methods are also very useful, just like list methods. Here are a collection of useful methods when working with dictionaries.\n",
    "\n",
    "- clear() **Removes all the elements from the dictionary**\n",
    "- copy() **Returns a copy of the dictionary**\n",
    "- len() **Returns the length or count of the specified dictionary**\n",
    "- items() **Returns a list containing a tuple for each key value pair**\n",
    "- pop() **Removes the element with the specified key**\n",
    "- keys() **Returns a list containing the dictionary's keys**\n",
    "- values() **Returns a list of all the values in the dictionary**"
   ]
  },
  {
   "cell_type": "markdown",
   "metadata": {
    "id": "I0XrJmQk9cwQ"
   },
   "source": [
    "### clear()\n",
    "\n",
    "To clear the contents of a dictionary, use the clear dictionary method:\n"
   ]
  },
  {
   "cell_type": "code",
   "execution_count": null,
   "metadata": {
    "id": "y4y1DfJp9aks"
   },
   "outputs": [],
   "source": [
    "# create a dictionary containing \"bananas\": .79, \"blueberries\": 4.99, \"apples\": 1.99 and assign it to a variable: fruits\n",
    "\n",
    "\n",
    "\n",
    "# clear fruits\n",
    "\n",
    "\n",
    "# print fruits\n"
   ]
  },
  {
   "cell_type": "markdown",
   "metadata": {
    "id": "reYFFSF99qqG"
   },
   "source": [
    "\n",
    "### copy()\n",
    "\n",
    "To copy the contents of a dictionary, use the copy dictionary method:\n"
   ]
  },
  {
   "cell_type": "code",
   "execution_count": null,
   "metadata": {
    "id": "2vMGqpcxkmMV"
   },
   "outputs": [],
   "source": [
    "# create a dictionary containing \"bananas\": .79, \"blueberries\": 4.99, \"apples\": 1.99 and assign it to a variable: fruits\n",
    "\n",
    "\n",
    "# print fruits\n"
   ]
  },
  {
   "cell_type": "code",
   "execution_count": null,
   "metadata": {
    "id": "XELkO7YH9W-x"
   },
   "outputs": [],
   "source": [
    "# make a copy of fruits and assign it to variable: new_fruits\n",
    "\n",
    "\n",
    "# add \"melon\": 3.19 to new_fruits\n",
    "\n",
    "\n",
    "# print new fruits\n"
   ]
  },
  {
   "cell_type": "markdown",
   "metadata": {
    "id": "vpIDGFfr-vzl"
   },
   "source": [
    "### len()\n",
    "\n",
    "You can also use `len()` to find the length of items in the list, same with dictionaries."
   ]
  },
  {
   "cell_type": "code",
   "execution_count": null,
   "metadata": {
    "id": "X2DTjFvu-wLR"
   },
   "outputs": [],
   "source": [
    "# create a dictionary containing 100: \"Int\", 99.99: \"Float\" and assign it to variable: data_types\n",
    "\n",
    "# return tht length of data_types (how many items?)\n"
   ]
  },
  {
   "cell_type": "markdown",
   "metadata": {
    "id": "DveZ_VsB-3N6"
   },
   "source": [
    "### items()\n",
    "\n",
    "To list the items in a dictionary, use the items dictionary method:\n"
   ]
  },
  {
   "cell_type": "code",
   "execution_count": null,
   "metadata": {
    "id": "YeABFqtS-x3y"
   },
   "outputs": [],
   "source": [
    "# create a dictionary containing \"bananas\": .79, \"blueberries\": 4.99, \"apples\": 1.99 and assign it to a variable: fruits\n",
    "\n",
    "\n",
    "# assign fruit dictionary items to variable: new_fruits\n",
    "\n",
    "\n",
    "# print new fruits\n"
   ]
  },
  {
   "cell_type": "markdown",
   "metadata": {
    "id": "7WK5Kp06--dt"
   },
   "source": [
    "### pop()\n",
    "\n",
    "To pop items in a dictionary, use the pop dictionary method:\n"
   ]
  },
  {
   "cell_type": "code",
   "execution_count": null,
   "metadata": {
    "id": "D2jc5Lhr-8SW"
   },
   "outputs": [],
   "source": [
    "# create a dictionary containing \"bananas\": .79, \"blueberries\": 4.99, \"apples\": 1.99 and assign it to a variable: fruits\n",
    "fruits = {\n",
    "  \"bananas\": .79,\n",
    "  \"blueberries\": 4.99,\n",
    "  \"apples\": 1.99\n",
    "}\n",
    "\n"
   ]
  },
  {
   "cell_type": "markdown",
   "metadata": {
    "id": "kh3qVBP6_Eaq"
   },
   "source": [
    "### keys()\n",
    "\n",
    "To return dictionary keys, use the keys dictionary method:"
   ]
  },
  {
   "cell_type": "code",
   "execution_count": null,
   "metadata": {
    "colab": {
     "base_uri": "https://localhost:8080/"
    },
    "executionInfo": {
     "elapsed": 7,
     "status": "ok",
     "timestamp": 1643813005792,
     "user": {
      "displayName": "Jonathan Barrios",
      "photoUrl": "https://lh3.googleusercontent.com/a-/AOh14Gj_KFXU5phanoATkzhhR3Yb2zDYFB4nnTYMF3cP=s64",
      "userId": "16097537147383230085"
     },
     "user_tz": 360
    },
    "id": "qc4Qz5Pm_CgY",
    "outputId": "919a7b24-6cc3-4632-bc0d-cf9fed4fd504"
   },
   "outputs": [],
   "source": [
    "# create a dictionary containing \"bananas\": .79, \"blueberries\": 4.99, \"apples\": 1.99 and assign it to a variable: fruits\n",
    "fruits = {\n",
    "  \"bananas\": .79,\n",
    "  \"blueberries\": 4.99,\n",
    "  \"apples\": 1.99\n",
    "}\n",
    "\n"
   ]
  },
  {
   "cell_type": "markdown",
   "metadata": {
    "id": "kykSSQ3H_Q2b"
   },
   "source": [
    "### values()\n",
    "\n",
    "To return dictionary values, use the values dictionary method:\n"
   ]
  },
  {
   "cell_type": "code",
   "execution_count": null,
   "metadata": {
    "id": "WBrhDhsS_JgN"
   },
   "outputs": [],
   "source": [
    "# create a dictionary containing \"bananas\": .79, \"blueberries\": 4.99, \"apples\": 1.99 and assign it to a variable: fruits\n",
    "fruits = {\n",
    "  \"bananas\": .79,\n",
    "  \"blueberries\": 4.99,\n",
    "  \"apples\": 1.99\n",
    "}\n",
    "\n"
   ]
  },
  {
   "cell_type": "markdown",
   "metadata": {
    "id": "sr20S6Wj_d1j"
   },
   "source": [
    "### The `in` keyword\n",
    "\n",
    "You can search for keys using the in keyword:\n"
   ]
  },
  {
   "cell_type": "code",
   "execution_count": null,
   "metadata": {
    "id": "W4iGbzfd_Ta2"
   },
   "outputs": [],
   "source": [
    "# create a dictionary containing \"bananas\": .79, \"blueberries\": 4.99, \"apples\": 1.99 and assign it to a variable: fruits\n",
    "fruits = {\n",
    "  \"bananas\": .79,\n",
    "  \"blueberries\": 4.99,\n",
    "  \"apples\": 1.99\n",
    "}\n",
    "\n"
   ]
  },
  {
   "cell_type": "markdown",
   "metadata": {
    "id": "2lasJJ8B_kKi"
   },
   "source": [
    "### The `not in` keywords\n",
    "\n",
    "You can search for keys not in a dictionary using the not in keywords:\n"
   ]
  },
  {
   "cell_type": "code",
   "execution_count": null,
   "metadata": {
    "id": "VTCGeZyz_guu"
   },
   "outputs": [],
   "source": [
    "# create a dictionary containing \"bananas\": .79, \"blueberries\": 4.99, \"apples\": 1.99 and assign it to a variable: fruits\n",
    "fruits = {\n",
    "  \"bananas\": .79,\n",
    "  \"blueberries\": 4.99,\n",
    "  \"apples\": 1.99\n",
    "}\n",
    "\n",
    "# is bananas in the fruits dictionary?\n"
   ]
  },
  {
   "cell_type": "markdown",
   "metadata": {
    "id": "CzMw9P6H_os1"
   },
   "source": [
    "### The `in` and `not in` keywords for values\n",
    "\n",
    "You can search for values in and not in a dictionary using the `in` and `not in` keywords:"
   ]
  },
  {
   "cell_type": "code",
   "execution_count": null,
   "metadata": {
    "id": "ufj-r6jI_mar"
   },
   "outputs": [],
   "source": [
    "# create a dictionary containing \"bananas\": .79, \"blueberries\": 4.99, \"apples\": 1.99 and assign it to a variable: fruits\n",
    "fruits = {\n",
    "  \"bananas\": .79,\n",
    "  \"blueberries\": 4.99,\n",
    "  \"apples\": 1.99\n",
    "}\n",
    "\n",
    "# is .79 a value in the fruits dictionary?\n"
   ]
  },
  {
   "cell_type": "code",
   "execution_count": null,
   "metadata": {
    "id": "FbTrI0Xr_t32"
   },
   "outputs": [],
   "source": [
    "# create a dictionary containing \"bananas\": .79, \"blueberries\": 4.99, \"apples\": 1.99 and assign it to a variable: fruits\n",
    "fruits = {\n",
    "  \"bananas\": .79,\n",
    "  \"blueberries\": 4.99,\n",
    "  \"apples\": 1.99\n",
    "}\n",
    "\n",
    "# is .79 not a value in the fruits dictionary?\n"
   ]
  },
  {
   "cell_type": "markdown",
   "metadata": {
    "id": "Lsfwpl9rpva9"
   },
   "source": [
    "## Works with lists as well\n",
    "\n",
    "### The `in` keyword\n",
    "\n",
    "You can search for keys using the in keyword:\n"
   ]
  },
  {
   "cell_type": "code",
   "execution_count": null,
   "metadata": {
    "id": "yxNMixfQps_f"
   },
   "outputs": [],
   "source": [
    "# create a list containing \"bananas\", \"blueberries\", \"apples\" and assign it to varibale: fruits\n",
    "fruits = [\"bananas\", \"blueberries\", \"apples\"]\n",
    "\n",
    "# is bananas in the fruits list?\n"
   ]
  },
  {
   "cell_type": "markdown",
   "metadata": {
    "id": "C3Gd1tB5pzAn"
   },
   "source": [
    "### The `not in` keywords\n",
    "\n",
    "You can search for keys not in a dictionary using the not in keywords:\n"
   ]
  },
  {
   "cell_type": "code",
   "execution_count": null,
   "metadata": {
    "id": "WLyuA4cCpw8L"
   },
   "outputs": [],
   "source": [
    "# create a list containing \"bananas\", \"blueberries\", \"apples\" and assign it to varibale: fruits\n",
    "fruits = [\"bananas\", \"blueberries\", \"apples\"]\n",
    "\n",
    "# is bananas not in the fruits list?\n"
   ]
  }
 ],
 "metadata": {
  "colab": {
   "collapsed_sections": [],
   "name": "7_5_dictionary_methods_FINISH.ipynb",
   "provenance": []
  },
  "kernelspec": {
   "display_name": "Python 3 (ipykernel)",
   "language": "python",
   "name": "python3"
  },
  "language_info": {
   "codemirror_mode": {
    "name": "ipython",
    "version": 3
   },
   "file_extension": ".py",
   "mimetype": "text/x-python",
   "name": "python",
   "nbconvert_exporter": "python",
   "pygments_lexer": "ipython3",
   "version": "3.10.8"
  }
 },
 "nbformat": 4,
 "nbformat_minor": 1
}
