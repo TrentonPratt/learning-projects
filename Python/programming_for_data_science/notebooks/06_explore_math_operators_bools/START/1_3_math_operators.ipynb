{
 "cells": [
  {
   "cell_type": "markdown",
   "metadata": {
    "id": "RXj8h-9AK6eG"
   },
   "source": [
    "# Math operators\n",
    "\n",
    "In this skill, you'll get the opportunity to use integers and floats combined with math operators to write Python code inside of code cells below. The most exciting part of using Python for math is using it as a super-powerful calculator, making linear algebra, equations, and statistical formulas more intuitive. Especially if you don't have a math background, you can notate fancy equations and formulas using LaTex which will help you understand and apply statistical operations. Best of all, you can refer to them whenever you need them!\n",
    "\n"
   ]
  },
  {
   "cell_type": "markdown",
   "metadata": {
    "id": "LK-twJfeNary"
   },
   "source": [
    "### Addition\n",
    "$\\large x + y$"
   ]
  },
  {
   "cell_type": "code",
   "execution_count": 6,
   "metadata": {
    "id": "DwU8UxS7JUTd"
   },
   "outputs": [
    {
     "data": {
      "text/plain": [
       "10.1"
      ]
     },
     "execution_count": 6,
     "metadata": {},
     "output_type": "execute_result"
    }
   ],
   "source": [
    "# add two integers/floats together\n",
    "c = 5.1 + 5\n",
    "c"
   ]
  },
  {
   "cell_type": "code",
   "execution_count": 7,
   "metadata": {
    "id": "gQVzXtIDiOWB"
   },
   "outputs": [
    {
     "data": {
      "text/plain": [
       "float"
      ]
     },
     "execution_count": 7,
     "metadata": {},
     "output_type": "execute_result"
    }
   ],
   "source": [
    "# verify type with the type() function\n",
    "type(c)\n"
   ]
  },
  {
   "cell_type": "markdown",
   "metadata": {
    "id": "PVXTs4ZJfnTS"
   },
   "source": [
    "### Subtraction\n",
    "$\\large x - y$\n"
   ]
  },
  {
   "cell_type": "code",
   "execution_count": 8,
   "metadata": {
    "id": "-y5a8xVAxHrj"
   },
   "outputs": [
    {
     "data": {
      "text/plain": [
       "2"
      ]
     },
     "execution_count": 8,
     "metadata": {},
     "output_type": "execute_result"
    }
   ],
   "source": [
    "# substract two integers/floats\n",
    "b = 10 - 8\n",
    "b"
   ]
  },
  {
   "cell_type": "markdown",
   "metadata": {
    "id": "ZTyf7V48fq5X"
   },
   "source": [
    "### Multiplication\n",
    "$\\large x \\times y$"
   ]
  },
  {
   "cell_type": "code",
   "execution_count": 13,
   "metadata": {
    "id": "VwWa5iMLxSO7"
   },
   "outputs": [
    {
     "data": {
      "text/plain": [
       "int"
      ]
     },
     "execution_count": 13,
     "metadata": {},
     "output_type": "execute_result"
    }
   ],
   "source": [
    "# mupliply integers/floats\n",
    "a = 3 * 3\n",
    "a\n",
    "type(a)"
   ]
  },
  {
   "cell_type": "markdown",
   "metadata": {
    "id": "-MAPPJJcfuSf"
   },
   "source": [
    "### Division\n",
    "$\\large x / y$"
   ]
  },
  {
   "cell_type": "code",
   "execution_count": 12,
   "metadata": {
    "id": "VTa77OhQxcR5"
   },
   "outputs": [
    {
     "data": {
      "text/plain": [
       "float"
      ]
     },
     "execution_count": 12,
     "metadata": {},
     "output_type": "execute_result"
    }
   ],
   "source": [
    "# divide integers/floats\n",
    "d = 10 / 2\n",
    "type(d)"
   ]
  },
  {
   "cell_type": "markdown",
   "metadata": {
    "id": "DN1_1pD_gIZy"
   },
   "source": [
    "### Modulus\n",
    "$\\large x$ % $\\large y$\n",
    "\n",
    "[Python Tutor Example](https://pythontutor.com/visualize.html#code=%23%20handy%20when%20trying%20to%20identify%20even%20and%20odd%20numbers.%0Anum%20%3D%20int%28input%28%22Enter%20a%20number%3A%20%22%29%29%0Amod%20%3D%20num%20%25%202%0A%0Aif%20mod%20%3E%200%3A%0A%20%20%20%20print%28%22This%20is%20an%20odd%20number.%22%29%0Aelse%3A%0A%20%20%20%20print%28%22This%20is%20an%20even%20number.%22%29&cumulative=false&heapPrimitives=nevernest&mode=edit&origin=opt-frontend.js&py=3&rawInputLstJSON=%5B%5D&textReferences=false)"
   ]
  },
  {
   "cell_type": "code",
   "execution_count": 14,
   "metadata": {
    "id": "5yuUXsEmxmsn"
   },
   "outputs": [
    {
     "name": "stdout",
     "output_type": "stream",
     "text": [
      "0\n",
      "2\n"
     ]
    }
   ],
   "source": [
    "# modulo returns the remainder of division\n",
    "\n",
    "# remainder is 0 since it is an even number\n",
    "print(20 % 5)\n",
    "\n",
    "# remainder is 1 since it is an odd number\n",
    "print(20 % 3)"
   ]
  },
  {
   "cell_type": "code",
   "execution_count": 17,
   "metadata": {},
   "outputs": [
    {
     "name": "stdout",
     "output_type": "stream",
     "text": [
      "Enter a number: 2\n",
      "this is an even number\n"
     ]
    }
   ],
   "source": [
    "num = int(input(\"Enter a number: \"))\n",
    "mod = num % 2\n",
    "\n",
    "if mod > 0:\n",
    "    print(\"this is an odd number\")\n",
    "else:\n",
    "    print(\"this is an even number\")"
   ]
  },
  {
   "cell_type": "markdown",
   "metadata": {
    "id": "98A1fwSzgMsr"
   },
   "source": [
    "## Exponentiation\n",
    "$\\large x^y$\n",
    "\n",
    "7 squared = 49\n",
    "\n",
    "7 to the 3rd power = 343\n",
    "\n",
    "7 to the 4th power = 2401 and so on..."
   ]
  },
  {
   "cell_type": "code",
   "execution_count": 18,
   "metadata": {
    "colab": {
     "base_uri": "https://localhost:8080/"
    },
    "executionInfo": {
     "elapsed": 111,
     "status": "ok",
     "timestamp": 1642976826225,
     "user": {
      "displayName": "Jonathan Barrios",
      "photoUrl": "https://lh3.googleusercontent.com/a-/AOh14Gj_KFXU5phanoATkzhhR3Yb2zDYFB4nnTYMF3cP=s64",
      "userId": "16097537147383230085"
     },
     "user_tz": 360
    },
    "id": "F2Lqnscl6CWA",
    "outputId": "c420390d-cf24-4da6-9009-52bc8001ed1b"
   },
   "outputs": [
    {
     "data": {
      "text/plain": [
       "10000000000"
      ]
     },
     "execution_count": 18,
     "metadata": {},
     "output_type": "execute_result"
    }
   ],
   "source": [
    "# exponents for integers/floats\n",
    "10**10"
   ]
  },
  {
   "cell_type": "markdown",
   "metadata": {
    "id": "feQHLNYWgUVU"
   },
   "source": [
    "### Floor division\n",
    "$\\large \\lfloor 2.5 \\rfloor = 2$"
   ]
  },
  {
   "cell_type": "code",
   "execution_count": 19,
   "metadata": {
    "colab": {
     "base_uri": "https://localhost:8080/"
    },
    "executionInfo": {
     "elapsed": 122,
     "status": "ok",
     "timestamp": 1642976901409,
     "user": {
      "displayName": "Jonathan Barrios",
      "photoUrl": "https://lh3.googleusercontent.com/a-/AOh14Gj_KFXU5phanoATkzhhR3Yb2zDYFB4nnTYMF3cP=s64",
      "userId": "16097537147383230085"
     },
     "user_tz": 360
    },
    "id": "q3nMpOFwyKzB",
    "outputId": "45283f74-2597-4894-9e11-e39909f23bda"
   },
   "outputs": [
    {
     "name": "stdout",
     "output_type": "stream",
     "text": [
      "2.5\n",
      "2\n"
     ]
    }
   ],
   "source": [
    "# floor division, rounds to the lower bound\n",
    "print(5 / 2)\n",
    "print(5 // 2)"
   ]
  },
  {
   "cell_type": "markdown",
   "metadata": {
    "id": "sNKBq6O9RI03"
   },
   "source": [
    "## Fun with the `input()` method\n",
    "\n",
    "The input method asks the user to input a number that we can store in a variable and perform some  calculations."
   ]
  },
  {
   "cell_type": "code",
   "execution_count": 23,
   "metadata": {
    "colab": {
     "base_uri": "https://localhost:8080/"
    },
    "executionInfo": {
     "elapsed": 2170,
     "status": "ok",
     "timestamp": 1642977040626,
     "user": {
      "displayName": "Jonathan Barrios",
      "photoUrl": "https://lh3.googleusercontent.com/a-/AOh14Gj_KFXU5phanoATkzhhR3Yb2zDYFB4nnTYMF3cP=s64",
      "userId": "16097537147383230085"
     },
     "user_tz": 360
    },
    "id": "TGHXPgPNRi68",
    "outputId": "e259bd06-6329-492e-d8e1-a4a8f5fb42b1"
   },
   "outputs": [
    {
     "name": "stdout",
     "output_type": "stream",
     "text": [
      "Input a positive integer between 1 - 10,000: 13\n",
      "You win!\n"
     ]
    }
   ],
   "source": [
    "number = int(input('Input a positive integer between 1 - 10,000: '))\n",
    "\n",
    "def luck():\n",
    "    if number == 13:\n",
    "        print(\"You win!\")\n",
    "luck()"
   ]
  },
  {
   "cell_type": "code",
   "execution_count": null,
   "metadata": {},
   "outputs": [],
   "source": []
  }
 ],
 "metadata": {
  "colab": {
   "authorship_tag": "ABX9TyNqsGPHGpRWZx5BUWa1U6/z",
   "provenance": []
  },
  "kernelspec": {
   "display_name": "Python 3 (ipykernel)",
   "language": "python",
   "name": "python3"
  },
  "language_info": {
   "codemirror_mode": {
    "name": "ipython",
    "version": 3
   },
   "file_extension": ".py",
   "mimetype": "text/x-python",
   "name": "python",
   "nbconvert_exporter": "python",
   "pygments_lexer": "ipython3",
   "version": "3.11.5"
  }
 },
 "nbformat": 4,
 "nbformat_minor": 1
}
