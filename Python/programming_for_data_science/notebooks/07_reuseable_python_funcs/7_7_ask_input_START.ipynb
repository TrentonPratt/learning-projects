{
 "cells": [
  {
   "cell_type": "markdown",
   "metadata": {
    "id": "YWF5yOtMgmxf"
   },
   "source": [
    "# Code Challenege: Guess the Magic Number Game\n",
    "\n",
    "Create a function without a parameter that asks players to guess the magic number. Follow the pseudocode below to create the game.\n",
    "\n",
    "### Pseudo Code\n",
    "\n",
    "\n",
    "1. Create a function named **guess_game** without a parameter\n",
    "2. Create a variable, `magic_num`, and assign a secret number between 1 - 10\n",
    "3. Ask the user to guess a number between 1 - 10 and store that number in a variable `user_input` \n",
    "4. Add logic that prints: `You got it! 🎉` when the number is a matched\n",
    "5. Add logic that prints: `Try again! 🙁` when the number is NOT a match\n",
    "\n"
   ]
  },
  {
   "cell_type": "code",
   "execution_count": 4,
   "metadata": {
    "id": "oIiHogEu2JJc"
   },
   "outputs": [
    {
     "name": "stdout",
     "output_type": "stream",
     "text": [
      "Enter 1 - 10: 4\n",
      "Rad!\n"
     ]
    }
   ],
   "source": [
    "# define a function ( no parameter needed )\n",
    "\n",
    "def guess_game():\n",
    " # create a variable magic_num with the secret number between 1 - 10\n",
    "    secret_num = 4\n",
    "    magic_num = input(\"Enter 1 - 10: \")\n",
    "    if secret_num == int(magic_num):\n",
    "        print(\"Rad!\")\n",
    "    else:\n",
    "        print(\"Wrong!\")\n",
    " \n",
    " # ask the user to guess a number between 1 - 10 \n",
    "\n",
    " \n",
    " # if the number is a match, print: You got it! 🎉\n",
    "\n",
    "\n",
    " # if the number doesn't match, print: Try again! 🙁\n",
    "\n",
    "\n",
    "guess_game()"
   ]
  },
  {
   "cell_type": "code",
   "execution_count": 3,
   "metadata": {
    "id": "kSzjExaj4Kzv"
   },
   "outputs": [
    {
     "name": "stdout",
     "output_type": "stream",
     "text": [
      "Guess an interger between 1 - 10: 7\n",
      "You got it! 🎉\n"
     ]
    }
   ],
   "source": [
    "# call the function"
   ]
  },
  {
   "cell_type": "markdown",
   "metadata": {
    "id": "dWqyl6f44vZ2"
   },
   "source": [
    "## Improve the guessing game!\n",
    "\n",
    "Now that you have a working function, can you improve it?\n",
    "\n",
    "*  Add a random number generator, so each function call generates a new `magic_number`\n",
    "*  Add feedback such as: `Guess higher` or `Guess lower`\n",
    "\n",
    "*  Add multiple tries so the user can guess until they get it right"
   ]
  },
  {
   "cell_type": "code",
   "execution_count": 5,
   "metadata": {
    "id": "Y1qZI5XmtoLM"
   },
   "outputs": [
    {
     "name": "stdout",
     "output_type": "stream",
     "text": [
      "6\n"
     ]
    }
   ],
   "source": [
    "# import random\n",
    "import random\n",
    "\n",
    "# assign the .randint() method with (start,stop) arguments to variable: magic_num\n",
    "magic_num = random.randint(1,11)\n",
    "\n",
    "# print magic_num\n",
    "print(magic_num)"
   ]
  },
  {
   "cell_type": "code",
   "execution_count": 11,
   "metadata": {
    "id": "68Tm_agIt2u0"
   },
   "outputs": [
    {
     "name": "stdout",
     "output_type": "stream",
     "text": [
      "Enter a number: 8\n",
      "Guess Higher\n",
      "Enter a number: 9\n",
      "Guess Higher\n",
      "Enter a number: 10\n",
      "Guess Higher\n",
      "Enter a number: 11\n",
      "Rad!\n"
     ]
    }
   ],
   "source": [
    "import random\n",
    "\n",
    "magic_num = random.randint(1,11)\n",
    "# mock user_input\n",
    "# mock magic_number\n",
    "\n",
    "def guesser():\n",
    "    user_input = int(input(\"Enter a number: \"))\n",
    "    if user_input == magic_num:\n",
    "        print(\"Rad!\")\n",
    "    elif user_input < magic_num:\n",
    "        print(\"Guess Higher\")\n",
    "        guesser()\n",
    "    elif user_input > magic_num:\n",
    "        print(\"Guess Lower\")\n",
    "        guesser()\n",
    "\n",
    "\n",
    "guesser()"
   ]
  },
  {
   "cell_type": "code",
   "execution_count": 12,
   "metadata": {},
   "outputs": [
    {
     "name": "stdout",
     "output_type": "stream",
     "text": [
      "Guess the magic number between 1 and 10!5\n",
      "Guess higher\n",
      "Guess the magic number between 1 and 10!3\n",
      "Guess higher\n",
      "Guess the magic number between 1 and 10!6\n",
      "Guess higher\n",
      "Guess the magic number between 1 and 10!7\n",
      "Guess higher\n",
      "Guess the magic number between 1 and 10!8\n",
      "Guess higher\n",
      "Guess the magic number between 1 and 10!9\n",
      "You got it!\n"
     ]
    }
   ],
   "source": [
    "import random\n",
    "magic_num = random.randint(1,11)\n",
    "\n",
    "def guessing_game():\n",
    "    guess = int(input(\"Guess the magic number between 1 and 10!\"))\n",
    "    if guess == magic_num:\n",
    "        print(\"You got it!\")\n",
    "    if guess < magic_num:\n",
    "        print(\"Guess higher\")\n",
    "    if guess > magic_num:\n",
    "        print(\"Guess lower\")\n",
    "    if guess != magic_num:\n",
    "        guessing_game()\n",
    "\n",
    "guessing_game()"
   ]
  },
  {
   "cell_type": "code",
   "execution_count": null,
   "metadata": {},
   "outputs": [],
   "source": []
  }
 ],
 "metadata": {
  "colab": {
   "collapsed_sections": [
    "dWqyl6f44vZ2"
   ],
   "name": "5_6_challenge_START.ipynb",
   "provenance": []
  },
  "kernelspec": {
   "display_name": "Python 3 (ipykernel)",
   "language": "python",
   "name": "python3"
  },
  "language_info": {
   "codemirror_mode": {
    "name": "ipython",
    "version": 3
   },
   "file_extension": ".py",
   "mimetype": "text/x-python",
   "name": "python",
   "nbconvert_exporter": "python",
   "pygments_lexer": "ipython3",
   "version": "3.11.5"
  }
 },
 "nbformat": 4,
 "nbformat_minor": 1
}
