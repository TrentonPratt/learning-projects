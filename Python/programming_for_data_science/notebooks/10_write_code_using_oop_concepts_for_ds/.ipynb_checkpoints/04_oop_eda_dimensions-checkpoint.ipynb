{
 "cells": [
  {
   "cell_type": "markdown",
   "metadata": {
    "id": "r4h2sPaLbujI"
   },
   "source": [
    "# Import and Load Data"
   ]
  },
  {
   "cell_type": "code",
   "execution_count": 1,
   "metadata": {
    "executionInfo": {
     "elapsed": 3538,
     "status": "ok",
     "timestamp": 1670947746106,
     "user": {
      "displayName": "Jonathan Barrios",
      "userId": "16097537147383230085"
     },
     "user_tz": 360
    },
    "id": "y_HIFmTbM4Nx"
   },
   "outputs": [],
   "source": [
    "import pandas as pd\n",
    "import matplotlib.pyplot as plt\n",
    "import seaborn as sns"
   ]
  },
  {
   "cell_type": "code",
   "execution_count": 3,
   "metadata": {
    "executionInfo": {
     "elapsed": 292,
     "status": "ok",
     "timestamp": 1670947746393,
     "user": {
      "displayName": "Jonathan Barrios",
      "userId": "16097537147383230085"
     },
     "user_tz": 360
    },
    "id": "70FwUPdpNV70"
   },
   "outputs": [
    {
     "data": {
      "text/html": [
       "<div>\n",
       "<style scoped>\n",
       "    .dataframe tbody tr th:only-of-type {\n",
       "        vertical-align: middle;\n",
       "    }\n",
       "\n",
       "    .dataframe tbody tr th {\n",
       "        vertical-align: top;\n",
       "    }\n",
       "\n",
       "    .dataframe thead th {\n",
       "        text-align: right;\n",
       "    }\n",
       "</style>\n",
       "<table border=\"1\" class=\"dataframe\">\n",
       "  <thead>\n",
       "    <tr style=\"text-align: right;\">\n",
       "      <th></th>\n",
       "      <th>rcc</th>\n",
       "      <th>wcc</th>\n",
       "      <th>hc</th>\n",
       "      <th>hg</th>\n",
       "      <th>ferr</th>\n",
       "      <th>bmi</th>\n",
       "      <th>ssf</th>\n",
       "      <th>pcBfat</th>\n",
       "      <th>lbm</th>\n",
       "      <th>ht</th>\n",
       "      <th>wt</th>\n",
       "      <th>sex</th>\n",
       "      <th>sport</th>\n",
       "    </tr>\n",
       "  </thead>\n",
       "  <tbody>\n",
       "    <tr>\n",
       "      <th>0</th>\n",
       "      <td>3.96</td>\n",
       "      <td>7.5</td>\n",
       "      <td>37.5</td>\n",
       "      <td>12.3</td>\n",
       "      <td>60</td>\n",
       "      <td>20.56</td>\n",
       "      <td>109.1</td>\n",
       "      <td>19.75</td>\n",
       "      <td>63.32</td>\n",
       "      <td>195.9</td>\n",
       "      <td>78.9</td>\n",
       "      <td>f</td>\n",
       "      <td>B_Ball</td>\n",
       "    </tr>\n",
       "    <tr>\n",
       "      <th>1</th>\n",
       "      <td>4.41</td>\n",
       "      <td>8.3</td>\n",
       "      <td>38.2</td>\n",
       "      <td>12.7</td>\n",
       "      <td>68</td>\n",
       "      <td>20.67</td>\n",
       "      <td>102.8</td>\n",
       "      <td>21.30</td>\n",
       "      <td>58.55</td>\n",
       "      <td>189.7</td>\n",
       "      <td>74.4</td>\n",
       "      <td>f</td>\n",
       "      <td>B_Ball</td>\n",
       "    </tr>\n",
       "    <tr>\n",
       "      <th>2</th>\n",
       "      <td>4.14</td>\n",
       "      <td>5.0</td>\n",
       "      <td>36.4</td>\n",
       "      <td>11.6</td>\n",
       "      <td>21</td>\n",
       "      <td>21.86</td>\n",
       "      <td>104.6</td>\n",
       "      <td>19.88</td>\n",
       "      <td>55.36</td>\n",
       "      <td>177.8</td>\n",
       "      <td>69.1</td>\n",
       "      <td>f</td>\n",
       "      <td>B_Ball</td>\n",
       "    </tr>\n",
       "    <tr>\n",
       "      <th>3</th>\n",
       "      <td>4.11</td>\n",
       "      <td>5.3</td>\n",
       "      <td>37.3</td>\n",
       "      <td>12.6</td>\n",
       "      <td>69</td>\n",
       "      <td>21.88</td>\n",
       "      <td>126.4</td>\n",
       "      <td>23.66</td>\n",
       "      <td>57.18</td>\n",
       "      <td>185.0</td>\n",
       "      <td>74.9</td>\n",
       "      <td>f</td>\n",
       "      <td>B_Ball</td>\n",
       "    </tr>\n",
       "    <tr>\n",
       "      <th>4</th>\n",
       "      <td>4.45</td>\n",
       "      <td>6.8</td>\n",
       "      <td>41.5</td>\n",
       "      <td>14.0</td>\n",
       "      <td>29</td>\n",
       "      <td>18.96</td>\n",
       "      <td>80.3</td>\n",
       "      <td>17.64</td>\n",
       "      <td>53.20</td>\n",
       "      <td>184.6</td>\n",
       "      <td>64.6</td>\n",
       "      <td>f</td>\n",
       "      <td>B_Ball</td>\n",
       "    </tr>\n",
       "    <tr>\n",
       "      <th>...</th>\n",
       "      <td>...</td>\n",
       "      <td>...</td>\n",
       "      <td>...</td>\n",
       "      <td>...</td>\n",
       "      <td>...</td>\n",
       "      <td>...</td>\n",
       "      <td>...</td>\n",
       "      <td>...</td>\n",
       "      <td>...</td>\n",
       "      <td>...</td>\n",
       "      <td>...</td>\n",
       "      <td>...</td>\n",
       "      <td>...</td>\n",
       "    </tr>\n",
       "    <tr>\n",
       "      <th>197</th>\n",
       "      <td>4.90</td>\n",
       "      <td>7.6</td>\n",
       "      <td>45.6</td>\n",
       "      <td>16.0</td>\n",
       "      <td>90</td>\n",
       "      <td>27.56</td>\n",
       "      <td>67.2</td>\n",
       "      <td>11.79</td>\n",
       "      <td>82.00</td>\n",
       "      <td>183.9</td>\n",
       "      <td>93.2</td>\n",
       "      <td>m</td>\n",
       "      <td>W_Polo</td>\n",
       "    </tr>\n",
       "    <tr>\n",
       "      <th>198</th>\n",
       "      <td>5.66</td>\n",
       "      <td>8.3</td>\n",
       "      <td>50.2</td>\n",
       "      <td>17.7</td>\n",
       "      <td>38</td>\n",
       "      <td>23.76</td>\n",
       "      <td>56.5</td>\n",
       "      <td>10.05</td>\n",
       "      <td>72.00</td>\n",
       "      <td>183.5</td>\n",
       "      <td>80.0</td>\n",
       "      <td>m</td>\n",
       "      <td>Tennis</td>\n",
       "    </tr>\n",
       "    <tr>\n",
       "      <th>199</th>\n",
       "      <td>5.03</td>\n",
       "      <td>6.4</td>\n",
       "      <td>42.7</td>\n",
       "      <td>14.3</td>\n",
       "      <td>122</td>\n",
       "      <td>22.01</td>\n",
       "      <td>47.6</td>\n",
       "      <td>8.51</td>\n",
       "      <td>68.00</td>\n",
       "      <td>183.1</td>\n",
       "      <td>73.8</td>\n",
       "      <td>m</td>\n",
       "      <td>Tennis</td>\n",
       "    </tr>\n",
       "    <tr>\n",
       "      <th>200</th>\n",
       "      <td>4.97</td>\n",
       "      <td>8.8</td>\n",
       "      <td>43.0</td>\n",
       "      <td>14.9</td>\n",
       "      <td>233</td>\n",
       "      <td>22.34</td>\n",
       "      <td>60.4</td>\n",
       "      <td>11.50</td>\n",
       "      <td>63.00</td>\n",
       "      <td>178.4</td>\n",
       "      <td>71.1</td>\n",
       "      <td>m</td>\n",
       "      <td>Tennis</td>\n",
       "    </tr>\n",
       "    <tr>\n",
       "      <th>201</th>\n",
       "      <td>5.38</td>\n",
       "      <td>6.3</td>\n",
       "      <td>46.0</td>\n",
       "      <td>15.7</td>\n",
       "      <td>32</td>\n",
       "      <td>21.07</td>\n",
       "      <td>34.9</td>\n",
       "      <td>6.26</td>\n",
       "      <td>72.00</td>\n",
       "      <td>190.8</td>\n",
       "      <td>76.7</td>\n",
       "      <td>m</td>\n",
       "      <td>Tennis</td>\n",
       "    </tr>\n",
       "  </tbody>\n",
       "</table>\n",
       "<p>202 rows × 13 columns</p>\n",
       "</div>"
      ],
      "text/plain": [
       "      rcc  wcc    hc    hg  ferr    bmi    ssf  pcBfat    lbm     ht    wt  \\\n",
       "0    3.96  7.5  37.5  12.3    60  20.56  109.1   19.75  63.32  195.9  78.9   \n",
       "1    4.41  8.3  38.2  12.7    68  20.67  102.8   21.30  58.55  189.7  74.4   \n",
       "2    4.14  5.0  36.4  11.6    21  21.86  104.6   19.88  55.36  177.8  69.1   \n",
       "3    4.11  5.3  37.3  12.6    69  21.88  126.4   23.66  57.18  185.0  74.9   \n",
       "4    4.45  6.8  41.5  14.0    29  18.96   80.3   17.64  53.20  184.6  64.6   \n",
       "..    ...  ...   ...   ...   ...    ...    ...     ...    ...    ...   ...   \n",
       "197  4.90  7.6  45.6  16.0    90  27.56   67.2   11.79  82.00  183.9  93.2   \n",
       "198  5.66  8.3  50.2  17.7    38  23.76   56.5   10.05  72.00  183.5  80.0   \n",
       "199  5.03  6.4  42.7  14.3   122  22.01   47.6    8.51  68.00  183.1  73.8   \n",
       "200  4.97  8.8  43.0  14.9   233  22.34   60.4   11.50  63.00  178.4  71.1   \n",
       "201  5.38  6.3  46.0  15.7    32  21.07   34.9    6.26  72.00  190.8  76.7   \n",
       "\n",
       "    sex   sport  \n",
       "0     f  B_Ball  \n",
       "1     f  B_Ball  \n",
       "2     f  B_Ball  \n",
       "3     f  B_Ball  \n",
       "4     f  B_Ball  \n",
       "..   ..     ...  \n",
       "197   m  W_Polo  \n",
       "198   m  Tennis  \n",
       "199   m  Tennis  \n",
       "200   m  Tennis  \n",
       "201   m  Tennis  \n",
       "\n",
       "[202 rows x 13 columns]"
      ]
     },
     "execution_count": 3,
     "metadata": {},
     "output_type": "execute_result"
    }
   ],
   "source": [
    "url = 'https://raw.githubusercontent.com/jonathan-data-analysis/colab_test_data/main/athletes.csv'\n",
    "\n",
    "# convert to dataframe\n",
    "df = pd.read_csv(url)\n",
    "df"
   ]
  },
  {
   "cell_type": "markdown",
   "metadata": {
    "id": "w9g8JlXyPyUz"
   },
   "source": [
    "## Adding Summary Methods for EDA\n",
    "One great uses of OOP is to create a class that can be used for any dataset. A custom class can help you perform EDA (Exploratory Data Analysis) which is a common practice before starting work on a dataset, particular problem you're trying to solve, or a question you're trying to answer. Let's take a closer look starting with the columns header names."
   ]
  },
  {
   "cell_type": "code",
   "execution_count": 4,
   "metadata": {
    "executionInfo": {
     "elapsed": 3,
     "status": "ok",
     "timestamp": 1670948189837,
     "user": {
      "displayName": "Jonathan Barrios",
      "userId": "16097537147383230085"
     },
     "user_tz": 360
    },
    "id": "3H9k2h_5RVzN"
   },
   "outputs": [],
   "source": [
    "class Summary:\n",
    "    def __init__(self, data):\n",
    "        self.df = pd.read_csv(data)\n",
    "        \n",
    "    def print_head(self):\n",
    "        return self.df.head()\n",
    "    \n",
    "    def get_columns(self):\n",
    "        return list(self.df.columns)"
   ]
  },
  {
   "cell_type": "code",
   "execution_count": 5,
   "metadata": {
    "colab": {
     "base_uri": "https://localhost:8080/"
    },
    "executionInfo": {
     "elapsed": 3,
     "status": "ok",
     "timestamp": 1670880963745,
     "user": {
      "displayName": "Jonathan Barrios",
      "userId": "16097537147383230085"
     },
     "user_tz": 360
    },
    "id": "pQGQQ0WLROpX",
    "outputId": "b4a1d449-c620-4f9f-df86-9e3c74d7e748"
   },
   "outputs": [
    {
     "data": {
      "text/plain": [
       "['rcc',\n",
       " 'wcc',\n",
       " 'hc',\n",
       " 'hg',\n",
       " 'ferr',\n",
       " 'bmi',\n",
       " 'ssf',\n",
       " 'pcBfat',\n",
       " 'lbm',\n",
       " 'ht',\n",
       " 'wt',\n",
       " 'sex',\n",
       " 'sport']"
      ]
     },
     "execution_count": 5,
     "metadata": {},
     "output_type": "execute_result"
    }
   ],
   "source": [
    "data = Summary(url)\n",
    "data.get_columns()"
   ]
  },
  {
   "cell_type": "markdown",
   "metadata": {
    "id": "aS2aDBTQRztK"
   },
   "source": [
    "## How About Dimensions?\n",
    "Let's add the row and column information to the custom class!"
   ]
  },
  {
   "cell_type": "code",
   "execution_count": 6,
   "metadata": {
    "id": "20z3ksAwRSTD"
   },
   "outputs": [],
   "source": [
    "class Summary:\n",
    "    def __init__(self, data):\n",
    "        self.df = pd.read_csv(data)\n",
    "        \n",
    "    def print_head(self):\n",
    "        return self.df.head()\n",
    "    \n",
    "    def get_columns(self):\n",
    "        return list(self.df.columns)\n",
    "    \n",
    "    def get_dim(self):\n",
    "        print('Rows:', len(self.df))\n",
    "        print('Columns:', len(self.df.columns))"
   ]
  },
  {
   "cell_type": "code",
   "execution_count": 8,
   "metadata": {
    "colab": {
     "base_uri": "https://localhost:8080/"
    },
    "executionInfo": {
     "elapsed": 151,
     "status": "ok",
     "timestamp": 1670880963894,
     "user": {
      "displayName": "Jonathan Barrios",
      "userId": "16097537147383230085"
     },
     "user_tz": 360
    },
    "id": "rkS-IECJRpwa",
    "outputId": "652bf32e-410d-49ae-f610-b8a54e7bdc33"
   },
   "outputs": [
    {
     "name": "stdout",
     "output_type": "stream",
     "text": [
      "Rows: 202\n",
      "Columns: 13\n"
     ]
    }
   ],
   "source": [
    "data = Summary(url)\n",
    "data.get_dim()"
   ]
  },
  {
   "cell_type": "code",
   "execution_count": null,
   "metadata": {},
   "outputs": [],
   "source": []
  }
 ],
 "metadata": {
  "colab": {
   "authorship_tag": "ABX9TyPg3TeTm6Yg4vtSRE4ld9Yb",
   "provenance": []
  },
  "kernelspec": {
   "display_name": "Python 3 (ipykernel)",
   "language": "python",
   "name": "python3"
  },
  "language_info": {
   "codemirror_mode": {
    "name": "ipython",
    "version": 3
   },
   "file_extension": ".py",
   "mimetype": "text/x-python",
   "name": "python",
   "nbconvert_exporter": "python",
   "pygments_lexer": "ipython3",
   "version": "3.11.5"
  }
 },
 "nbformat": 4,
 "nbformat_minor": 1
}
