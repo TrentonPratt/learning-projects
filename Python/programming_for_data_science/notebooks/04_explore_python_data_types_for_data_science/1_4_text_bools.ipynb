{
 "cells": [
  {
   "cell_type": "markdown",
   "metadata": {
    "id": "oyGmFrbAK-w2"
   },
   "source": [
    "## Strings"
   ]
  },
  {
   "cell_type": "code",
   "execution_count": 2,
   "metadata": {
    "id": "pDBU1G7qJ7m2"
   },
   "outputs": [
    {
     "data": {
      "text/plain": [
       "str"
      ]
     },
     "execution_count": 2,
     "metadata": {},
     "output_type": "execute_result"
    }
   ],
   "source": [
    "# Strings (single or double quotes)\n",
    "'this is a string'\n",
    "\n",
    "# String assigned to a variable\n",
    "store = \"Bob's Music\"\n",
    "# the type() function\n",
    "type(store)\n"
   ]
  },
  {
   "cell_type": "markdown",
   "metadata": {
    "id": "C-a9nutoSjP6"
   },
   "source": [
    "## Bools"
   ]
  },
  {
   "cell_type": "code",
   "execution_count": 12,
   "metadata": {
    "id": "G-of0_8iSmND"
   },
   "outputs": [],
   "source": [
    "# Bool\n",
    "True\n",
    "# Bool\n",
    "False\n",
    "# Bool same as True\n",
    "a = bool(-12)\n",
    "# Bool same as False\n",
    "b = bool(0)"
   ]
  },
  {
   "cell_type": "code",
   "execution_count": 11,
   "metadata": {},
   "outputs": [
    {
     "data": {
      "text/plain": [
       "True"
      ]
     },
     "execution_count": 11,
     "metadata": {},
     "output_type": "execute_result"
    }
   ],
   "source": [
    "# the type() function\n",
    "a"
   ]
  },
  {
   "cell_type": "code",
   "execution_count": null,
   "metadata": {},
   "outputs": [],
   "source": []
  }
 ],
 "metadata": {
  "colab": {
   "authorship_tag": "ABX9TyM2ILIxaCDtsRgel9NkH4le",
   "provenance": []
  },
  "kernelspec": {
   "display_name": "Python 3 (ipykernel)",
   "language": "python",
   "name": "python3"
  },
  "language_info": {
   "codemirror_mode": {
    "name": "ipython",
    "version": 3
   },
   "file_extension": ".py",
   "mimetype": "text/x-python",
   "name": "python",
   "nbconvert_exporter": "python",
   "pygments_lexer": "ipython3",
   "version": "3.11.5"
  },
  "vscode": {
   "interpreter": {
    "hash": "31f2aee4e71d21fbe5cf8b01ff0e069b9275f58929596ceb00d14d90e3e16cd6"
   }
  }
 },
 "nbformat": 4,
 "nbformat_minor": 1
}
